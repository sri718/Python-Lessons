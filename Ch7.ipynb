{
 "cells": [
  {
   "cell_type": "markdown",
   "id": "46b5db3b-f471-4159-b090-f4637bc435d9",
   "metadata": {},
   "source": [
    "## 7. USER INPUT and WHILE LOOPS\n",
    "\n",
    "#### input():\n",
    "   To accept user input so your program can then work with it.\n",
    "#### Working of input():\n",
    "   The input() function pauses your program and waits for the user to enter some text. Once Python receives the user’s input, it assigns that input to a variable to make it convenient for you to work with. "
   ]
  },
  {
   "cell_type": "code",
   "execution_count": 39,
   "id": "f14c36cd-251f-4308-916b-bff31064d0ee",
   "metadata": {},
   "outputs": [
    {
     "name": "stdin",
     "output_type": "stream",
     "text": [
      "Please enter your name:  xxx\n"
     ]
    },
    {
     "name": "stdout",
     "output_type": "stream",
     "text": [
      "Hello, xxx!\n"
     ]
    }
   ],
   "source": [
    "name = input(\"Please enter your name: \")\n",
    "print(f\"Hello, {name}!\")"
   ]
  },
  {
   "cell_type": "markdown",
   "id": "398e6647-99a6-4d56-9bfb-ec49d3e35a87",
   "metadata": {},
   "source": [
    "#### Using int() to Accept Numerical Input:\n",
    "The int() function tells Python to treat the input as a numerical value.        "
   ]
  },
  {
   "cell_type": "code",
   "execution_count": 40,
   "id": "c4149507-0b4f-4e54-bead-f07980b8076a",
   "metadata": {
    "scrolled": true
   },
   "outputs": [
    {
     "name": "stdin",
     "output_type": "stream",
     "text": [
      "Enter age:  21\n"
     ]
    },
    {
     "name": "stdout",
     "output_type": "stream",
     "text": [
      "Yes\n"
     ]
    }
   ],
   "source": [
    "age=input(\"Enter age: \")\n",
    "age=int(age)   #can combine line 1 and 2 by age=int(input())\n",
    "if age>18:\n",
    "    print(\"Yes\")"
   ]
  },
  {
   "cell_type": "markdown",
   "id": "e8099896-c66e-404c-a275-db86defae9b7",
   "metadata": {},
   "source": [
    "#### The Modulo Operator:\n",
    "The modulo operator (%) divides one number by another number and returns the remainder."
   ]
  },
  {
   "cell_type": "code",
   "execution_count": 41,
   "id": "f8fd2ba6-5668-4ece-b9fb-99206fc3538d",
   "metadata": {},
   "outputs": [
    {
     "name": "stdout",
     "output_type": "stream",
     "text": [
      "3\n"
     ]
    }
   ],
   "source": [
    "print( 7%4 )"
   ]
  },
  {
   "cell_type": "markdown",
   "id": "b075c5c0-983d-4bac-88ba-708d96b162fe",
   "metadata": {},
   "source": [
    "#### while():\n",
    "The while loop runs as long as, or while, a certain condition is true. "
   ]
  },
  {
   "cell_type": "code",
   "execution_count": 42,
   "id": "c03ac722-b7e8-407d-9f15-f94c6524a93b",
   "metadata": {},
   "outputs": [
    {
     "name": "stdout",
     "output_type": "stream",
     "text": [
      "1 2 3 4 5 "
     ]
    }
   ],
   "source": [
    "current_number = 1\n",
    "while current_number <= 5:\n",
    " print(current_number,end=\" \")\n",
    " current_number += 1"
   ]
  },
  {
   "cell_type": "markdown",
   "id": "35ec026a-494a-4467-a6cc-79826f590ceb",
   "metadata": {},
   "source": [
    "The while loop is then set to keep running as long as the value of current_number is less than or equal to 5. The code inside the loop prints the value of current_number and then adds 1 to that value with current_number += 1."
   ]
  },
  {
   "cell_type": "markdown",
   "id": "ae995334-5063-4aea-b957-2495e0711288",
   "metadata": {},
   "source": [
    "#### Letting the User Choose When to Quit:\n",
    " We’ll define a quit value and then keep the program running as long as the user has not entered the quit value"
   ]
  },
  {
   "cell_type": "code",
   "execution_count": 43,
   "id": "28e9a6bc-46af-4915-91e6-0f2765895ca4",
   "metadata": {},
   "outputs": [
    {
     "name": "stdin",
     "output_type": "stream",
     "text": [
      "\n",
      "Tell me something, and I will repeat it back to you:\n",
      "Enter 'quit' to end the program.  hi\n"
     ]
    },
    {
     "name": "stdout",
     "output_type": "stream",
     "text": [
      "hi\n"
     ]
    },
    {
     "name": "stdin",
     "output_type": "stream",
     "text": [
      "\n",
      "Tell me something, and I will repeat it back to you:\n",
      "Enter 'quit' to end the program.  quit\n"
     ]
    },
    {
     "name": "stdout",
     "output_type": "stream",
     "text": [
      "quit\n"
     ]
    }
   ],
   "source": [
    "prompt = \"\\nTell me something, and I will repeat it back to you:\"\n",
    "prompt += \"\\nEnter 'quit' to end the program. \"\n",
    "message = \"\"\n",
    "while message != 'quit':\n",
    " message = input(prompt)   \n",
    " print(message)   # use if() to stop printing the \"quit\" "
   ]
  },
  {
   "cell_type": "markdown",
   "id": "e6a48c0b-38e6-4de1-925d-517266a719f8",
   "metadata": {},
   "source": [
    "#### Using a Flag:\n",
    "For a program that should run only as long as many conditions are true, you can define one variable that determines whether or not the entire program is active. This variable, called a flag, acts as a signal to the program."
   ]
  },
  {
   "cell_type": "code",
   "execution_count": 44,
   "id": "1caf5062-8980-415a-aea9-60fc7af2375b",
   "metadata": {},
   "outputs": [
    {
     "name": "stdin",
     "output_type": "stream",
     "text": [
      "\n",
      "Tell me something, and I will repeat it back to you:\n",
      "Enter 'quit' to end the program.  hello\n"
     ]
    },
    {
     "name": "stdout",
     "output_type": "stream",
     "text": [
      "hello\n"
     ]
    },
    {
     "name": "stdin",
     "output_type": "stream",
     "text": [
      "\n",
      "Tell me something, and I will repeat it back to you:\n",
      "Enter 'quit' to end the program.  quit\n"
     ]
    }
   ],
   "source": [
    "prompt = \"\\nTell me something, and I will repeat it back to you:\"\n",
    "prompt += \"\\nEnter 'quit' to end the program. \"\n",
    "\n",
    "active = True\n",
    "while active:\n",
    " message = input(prompt)\n",
    "\n",
    " if message == 'quit':\n",
    "  active = False\n",
    " else:\n",
    "  print(message)"
   ]
  },
  {
   "cell_type": "markdown",
   "id": "a26a79b2-c9c8-4712-9e8b-54bb2412b0da",
   "metadata": {},
   "source": [
    "#### Using break to Exit a Loop:\n",
    "To exit a while loop immediately without running any remaining code in the loop, regardless of the results of any conditional test, use the break statement. The break statement directs the flow of your program; you can use it to control which lines of code are executed and which aren’t, so the program only executes code that you want it to, when you want it to. "
   ]
  },
  {
   "cell_type": "code",
   "execution_count": 45,
   "id": "b0dd78cf-784b-4974-98dd-b3e5e104b02a",
   "metadata": {},
   "outputs": [
    {
     "name": "stdin",
     "output_type": "stream",
     "text": [
      "\n",
      "Please enter the name of a city you have visited:\n",
      "(Enter 'quit' when you are finished.)  cud\n"
     ]
    },
    {
     "name": "stdout",
     "output_type": "stream",
     "text": [
      "I'd love to go to Cud!\n"
     ]
    },
    {
     "name": "stdin",
     "output_type": "stream",
     "text": [
      "\n",
      "Please enter the name of a city you have visited:\n",
      "(Enter 'quit' when you are finished.)  che\n"
     ]
    },
    {
     "name": "stdout",
     "output_type": "stream",
     "text": [
      "I'd love to go to Che!\n"
     ]
    },
    {
     "name": "stdin",
     "output_type": "stream",
     "text": [
      "\n",
      "Please enter the name of a city you have visited:\n",
      "(Enter 'quit' when you are finished.)  quit\n"
     ]
    }
   ],
   "source": [
    "prompt = \"\\nPlease enter the name of a city you have visited:\"\n",
    "prompt += \"\\n(Enter 'quit' when you are finished.) \"\n",
    "while True:\n",
    " city = input(prompt)\n",
    " if city == 'quit':\n",
    "     break\n",
    " else:\n",
    "    print(f\"I'd love to go to {city.title()}!\")"
   ]
  },
  {
   "cell_type": "markdown",
   "id": "c016c3eb-e9c9-4358-b0fb-6ed24c38d582",
   "metadata": {},
   "source": [
    "#### Using continue in a Loop:\n",
    "The continue statement is used to return to the beginning of the loop based on the result of a conditional test."
   ]
  },
  {
   "cell_type": "code",
   "execution_count": 46,
   "id": "3faf7917-cc01-4503-898b-4ee945e2ae7e",
   "metadata": {},
   "outputs": [
    {
     "name": "stdout",
     "output_type": "stream",
     "text": [
      "1\n",
      "3\n",
      "5\n"
     ]
    }
   ],
   "source": [
    "current_number = 0\n",
    "while current_number < 5:\n",
    "     current_number += 1\n",
    "     if current_number % 2 == 0:\n",
    "         continue\n",
    "     print(current_number)"
   ]
  },
  {
   "cell_type": "markdown",
   "id": "f5f7ebc2-81f1-48ed-9ccc-ac50a5fac40c",
   "metadata": {},
   "source": [
    "#### Using a while Loop with Lists and Dictionaries:\n",
    "#### Moving Items from One List to Another"
   ]
  },
  {
   "cell_type": "code",
   "execution_count": 47,
   "id": "92e50b6a-395b-456a-9c8d-7e7f0fc88980",
   "metadata": {},
   "outputs": [
    {
     "name": "stdout",
     "output_type": "stream",
     "text": [
      "list1 : ['xxx', 'yyy', 'zzz']\n",
      "list2 : []\n",
      "Done\n",
      "list1 : []\n",
      "list2 : ['zzz', 'yyy', 'xxx']\n"
     ]
    }
   ],
   "source": [
    "list1=['xxx','yyy','zzz']\n",
    "list2=[]\n",
    "print(f'list1 : {list1}')\n",
    "print(f'list2 : {list2}')\n",
    "while list1:\n",
    "    item = list1.pop()\n",
    "    list2.append(item)\n",
    "print(\"Done\")\n",
    "print(f'list1 : {list1}')\n",
    "print(f'list2 : {list2}')"
   ]
  },
  {
   "cell_type": "markdown",
   "id": "90745cc3-f7f0-4022-8639-bfb3e9db55c5",
   "metadata": {},
   "source": [
    "#### Removing All Instances of Specific Values from a List:"
   ]
  },
  {
   "cell_type": "code",
   "execution_count": 48,
   "id": "295739fd-99ec-4498-8fd3-6af324c78783",
   "metadata": {},
   "outputs": [
    {
     "name": "stdout",
     "output_type": "stream",
     "text": [
      "['dog', 'cat', 'dog', 'goldfish', 'cat', 'rabbit', 'cat']\n",
      "['dog', 'dog', 'goldfish', 'rabbit']\n"
     ]
    }
   ],
   "source": [
    "pets = ['dog', 'cat', 'dog', 'goldfish', 'cat', 'rabbit', 'cat']\n",
    "print(pets)\n",
    "while 'cat' in pets:\n",
    " pets.remove('cat')\n",
    "\n",
    "print(pets)"
   ]
  },
  {
   "cell_type": "markdown",
   "id": "802140b9-6da8-400b-9525-45de2afa1eee",
   "metadata": {},
   "source": [
    "#### Filling a Dictionary with User Input"
   ]
  },
  {
   "cell_type": "code",
   "execution_count": 49,
   "id": "3e7e869b-0ab2-456c-a0a7-0362ebb5db4c",
   "metadata": {},
   "outputs": [
    {
     "name": "stdin",
     "output_type": "stream",
     "text": [
      "Enter your name xxx\n",
      "Enter your age 18\n",
      "Again? (y/n) y\n",
      "Enter your name yyy\n",
      "Enter your age 21\n",
      "Again? (y/n) n\n"
     ]
    },
    {
     "name": "stdout",
     "output_type": "stream",
     "text": [
      "Done\n",
      "{'xxx': '18', 'yyy': '21'}\n",
      "xxx is 18 yrs old.\n",
      "yyy is 21 yrs old.\n"
     ]
    }
   ],
   "source": [
    "dir = {}\n",
    "flag = True\n",
    "while flag:\n",
    "    name = input(\"Enter your name\")\n",
    "    age = input(\"Enter your age\")\n",
    "    dir[name] = age\n",
    "    rep = input(\"Again? (y/n)\")\n",
    "    if rep == \"n\":\n",
    "        flag = False\n",
    "print(\"Done\")\n",
    "print(dir)\n",
    "for name,age in dir.items():\n",
    "    print(f\"{name} is {age} yrs old.\")"
   ]
  },
  {
   "cell_type": "markdown",
   "id": "530dddf9-0a9d-475a-8544-5313760d101b",
   "metadata": {},
   "source": [
    "#### ----- THANK YOU -----     \n",
    "DATE : 06 DEC 2024"
   ]
  }
 ],
 "metadata": {
  "kernelspec": {
   "display_name": "Python 3 (ipykernel)",
   "language": "python",
   "name": "python3"
  },
  "language_info": {
   "codemirror_mode": {
    "name": "ipython",
    "version": 3
   },
   "file_extension": ".py",
   "mimetype": "text/x-python",
   "name": "python",
   "nbconvert_exporter": "python",
   "pygments_lexer": "ipython3",
   "version": "3.11.3"
  }
 },
 "nbformat": 4,
 "nbformat_minor": 5
}
