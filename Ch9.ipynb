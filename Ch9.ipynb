{
 "cells": [
  {
   "cell_type": "markdown",
   "id": "8303792d-89ca-4357-94f2-7198b59076f4",
   "metadata": {},
   "source": [
    "## 9. CLASSES\n",
    "Object-oriented programming is one of the\n",
    "most effective approaches to writing software. In object-oriented programming you\n",
    "write classes that represent real-world things\n",
    "and situations, and you create objects based on these\n",
    "classes.  \n",
    "When you create individual objects from the class, each object is automatically equipped with the general behavior; you can then give each object\n",
    "whatever unique traits you desire.  \n",
    "Making an object from a class is called instantiation, and you work with\n",
    "instances of a class.  \n",
    "#### Creating and Using a Class:\n",
    "You can model almost anything using classes with it's behavior which are usual functions known as methods,by:  \n",
    "class Class_Name:  \n",
    "&nbsp;&nbsp;&nbsp;&nbsp; def .....    \n",
    "Let us see it in detail.\n",
    "#### Making an Instance from a Class:  \n",
    "Think of a class as a set of instructions for how to make an instance. The\n",
    "class Person is a set of instructions that tells Python how to make individual\n",
    "instances representing specific person.\n",
    "#### Accessing Attributes:\n",
    "To access the attributes of an instance, you use dot notation.\n",
    "#### Calling Methods:\n",
    "After we create an instance from the class Person, we can use dot notation to\n",
    "call any method defined in Person.\n",
    "#### Creating Multiple Instances:\n",
    "You can create as many instances from a class as you need."
   ]
  },
  {
   "cell_type": "code",
   "execution_count": 8,
   "id": "31aa9466-8c53-48e3-bf94-9441c835a5f2",
   "metadata": {},
   "outputs": [
    {
     "name": "stdout",
     "output_type": "stream",
     "text": [
      "Hi,XXX\n",
      "XXX\n",
      "YYY\n"
     ]
    }
   ],
   "source": [
    "class Person:\n",
    "    def __init__(self,name):                # runs automatically when an object is created\n",
    "        self.name = name                    # assign the value to self.name to use it anywhere inside the class\n",
    "    def pr(self):\n",
    "        print(f\"Hi,{self.name}\")\n",
    "obj1 = Person('XXX')                        # creating an instance/obj\n",
    "obj2 = Person('YYY')                        # creating multiple instance\n",
    "obj1.pr()                                   # calling method\n",
    "print(obj1.name)                            # accessing attribute\n",
    "print(obj2.name)\n",
    "# self is in both functional definition to tie the method to an instance of the class (obj),  \n",
    "# And in attribute assingment"
   ]
  },
  {
   "cell_type": "markdown",
   "id": "7de9c7eb-7cf2-402e-bfae-6a6e63bd60c8",
   "metadata": {},
   "source": [
    "#### Working with Classes and Instances:\n",
    "You can use classes to represent many real-world situations. Once you write\n",
    "a class, you’ll spend most of your time working with instances created from\n",
    "that class.   \n",
    "To work with class and instance first ket us create one:"
   ]
  },
  {
   "cell_type": "code",
   "execution_count": 9,
   "id": "b9391f46-e4c7-4011-ab87-7a10713a0e2d",
   "metadata": {},
   "outputs": [
    {
     "name": "stdout",
     "output_type": "stream",
     "text": [
      "Abc is 25 yrs old and living in cud\n"
     ]
    }
   ],
   "source": [
    "class UserInfo:\n",
    "    def __init__(self,name,age,loc):\n",
    "        self.name=name\n",
    "        self.age=age\n",
    "        self.loc=loc\n",
    "    def details(self):\n",
    "        print(f'{self.name.title()} is {self.age} yrs old and living in {self.loc}')\n",
    "user1 = UserInfo('abc',25,'cud')\n",
    "user1.details()"
   ]
  },
  {
   "cell_type": "markdown",
   "id": "d323a1d0-8da4-4c73-96d7-e329add4e3aa",
   "metadata": {},
   "source": [
    "To make the class more interesting, let’s add an attribute that changes\n",
    "over time.\n",
    "#### Setting a Default Value for an Attribute:\n",
    "When an instance is created, attributes can be defined without being\n",
    "passed in as parameters. These attributes can be defined in the \\_\\_init\\_\\_()\n",
    "method, where they are assigned a default value."
   ]
  },
  {
   "cell_type": "code",
   "execution_count": 10,
   "id": "4e6e4ccc-3f70-41d4-83f8-97f4d4155d13",
   "metadata": {},
   "outputs": [
    {
     "name": "stdout",
     "output_type": "stream",
     "text": [
      "Abc is 25 yrs old and living in cud and has 0 yrs experience\n"
     ]
    }
   ],
   "source": [
    "class UserInfo:\n",
    "    def __init__(self,name,age,loc):\n",
    "        self.name=name\n",
    "        self.age=age\n",
    "        self.loc=loc\n",
    "        self.exp=0                 # a new attribute 'experience' is defined with default value\n",
    "    def details(self):\n",
    "        print(f'{self.name.title()} is {self.age} yrs old and living in {self.loc} and has {self.exp} yrs experience')\n",
    "user1 = UserInfo('abc',25,'cud')\n",
    "user1.details()"
   ]
  },
  {
   "cell_type": "markdown",
   "id": "a2379543-9a45-4393-98b3-635919720aa1",
   "metadata": {},
   "source": [
    "#### Modifying Attribute Values:\n",
    "You can change an attribute’s value in three ways:  \n",
    "1. Modifying an Attribute’s Value Directly  \n",
    "2. Modifying an Attribute’s Value Through a Method\n",
    "3. Incrementing (add a certain amount to it) an Attribute’s Value Through a Method\n",
    "#### 1. Modifying an Attribute’s Value Directly:\n",
    "The simplest way to modify the value of an attribute is to access the attribute directly through an instance.  \n",
    "by:  \n",
    "__obj_name.attribute.name = value__  \n",
    "#### 2. Modifying an Attribute’s Value Through a Method:\n",
    "It can be helpful to have methods that update certain attributes for you.\n",
    "Instead of accessing the attribute directly, you pass the new value to a\n",
    "method that handles the updating internally.  \n",
    "#### 3. Incrementing an Attribute’s Value Through a Method:\n",
    "Sometimes you’ll want to increment an attribute’s value by a certain\n",
    "amount rather than set an entirely new value. Here’s a method that allows us to pass this incremental amount and add\n",
    "that value to the exp:"
   ]
  },
  {
   "cell_type": "code",
   "execution_count": 14,
   "id": "41582238-c7df-403b-ae7d-ba0e7a76b4c8",
   "metadata": {},
   "outputs": [
    {
     "name": "stdout",
     "output_type": "stream",
     "text": [
      "Abc is 25 yrs old and living in cud and has 3 yrs experience\n",
      "Abc is 25 yrs old and living in cud and has 5 yrs experience\n",
      "Exp can't be less than previous\n",
      "Abc is 25 yrs old and living in cud and has 7 yrs experience\n",
      "Exp can't be less than previous\n"
     ]
    }
   ],
   "source": [
    "class UserInfo:\n",
    "    def __init__(self,name,age,loc):\n",
    "        self.name=name\n",
    "        self.age=age\n",
    "        self.loc=loc\n",
    "        self.exp=0   \n",
    "        self.a=0\n",
    "        \n",
    "    def update_exp(self,exp):      # using 2. Modifying an Attribute’s Value Through a Method.\n",
    "        self.a=0                   # to determine the use of next method\n",
    "        if exp >= self.exp:        # just extendind with conditonal statement\n",
    "            self.exp=exp\n",
    "        else:\n",
    "            print(\"Exp can't be less than previous\")\n",
    "            self.a=1\n",
    "            \n",
    "    def add_exp(self,exp):         # using 3. Incrementing an Attribute’s Value Through a Method.\n",
    "        self.a=0\n",
    "        if exp >= 0:\n",
    "            self.exp+=exp\n",
    "        else:\n",
    "            print(\"Exp can't be less than previous\")\n",
    "            self.a=1\n",
    "        \n",
    "    def details(self):\n",
    "        if self.a==0:\n",
    "            print(f'{self.name.title()} is {self.age} yrs old and living in {self.loc} and has {self.exp} yrs experience')\n",
    "            \n",
    "user1 = UserInfo('abc',25,'cud')\n",
    "user1.exp=3                        # using 1 : Modifying an Attribute’s Value Directly.\n",
    "user1.details()\n",
    "user1.update_exp(5)                # calling the method of 2.\n",
    "user1.details()\n",
    "user1.update_exp(2)\n",
    "user1.details()\n",
    "user1.add_exp(2)                   #calling the method 0f 3.\n",
    "user1.details()\n",
    "user1.add_exp(-2)\n",
    "user1.details()"
   ]
  },
  {
   "cell_type": "markdown",
   "id": "2edb1a90-c09a-4374-86cb-273036216045",
   "metadata": {},
   "source": [
    "#### NOTE :\n",
    "You can use methods like this to control how users of your program update values\n",
    "such as an odometer reading, but anyone with access to the program can set the odometer reading to any value by accessing the attribute directly. Effective security takes\n",
    "extreme attention to detail in addition to basic checks like those shown here."
   ]
  },
  {
   "cell_type": "markdown",
   "id": "772ecd5f-9202-4a33-ac12-476325f85544",
   "metadata": {},
   "source": [
    "#### Inheritance:\n",
    "If the class you’re writing is a specialized version of another class you wrote, you can use inheritance.   \n",
    "When one class inherits from another, it takes on the attributes and methods of the first class.  \n",
    "The original class is called the parent class, and the new class is the child class.  \n",
    "The child class can inherit any or all of the attributes and methods of its parent class, but it’s also free to\n",
    "define new attributes and methods of its own.   \n",
    "#### The __init__() Method for a Child Class:\n",
    "When you’re writing a new class based on an existing class, you’ll often\n",
    "want to call the \\_\\_init__() method from the parent class. This will initialize\n",
    "any attributes that were defined in the parent \\_\\_init__() method and make\n",
    "them available in the child class.  \n",
    "When you create a child class, the parent class\n",
    "must be part of the current file and must appear before the child class in\n",
    "the file.  \n",
    "#### Defining Attributes and Methods for the Child Class:\n",
    "Once you have a child class that inherits from a parent class, you can add\n",
    "any new attributes and methods necessary to differentiate the child class\n",
    "from the parent class.\n",
    "#### Overriding Methods from the Parent Class:\n",
    "To do this, you define a method\n",
    "in the child class with the same name as the method you want to override in\n",
    "the parent class. Python will disregard the parent class method and only\n",
    "pay attention to the method you define in the child class.\n",
    "#### Instances as Attributes:\n",
    "You might recognize that part of one class can\n",
    "be written as a separate class. You can break your large class into smaller\n",
    "classes that work together.  \n",
    "Then we can create an instance of that class as attribute to the other class."
   ]
  },
  {
   "cell_type": "code",
   "execution_count": 12,
   "id": "53aada29-e989-49e0-a99f-ca48a308e8fc",
   "metadata": {},
   "outputs": [
    {
     "name": "stdout",
     "output_type": "stream",
     "text": [
      "Parent Class\n",
      "Xxx is 20 yrs old and living in cud\n",
      "Child class\n",
      "Xxx is 19 yrs old and living in che\n",
      "Xxx is 19 yrs old and living in che\n",
      "Xxx has 7 family members\n",
      "Exp is 0 yrs\n",
      "Exp is 14 yrs\n",
      "Exp can't be negative\n"
     ]
    }
   ],
   "source": [
    "class UserInfo:                               # Parent Class\n",
    "    def __init__(self,name,age,loc):\n",
    "        self.name=name\n",
    "        self.age=age\n",
    "        self.loc=loc\n",
    "    def details(self):\n",
    "        print(f'{self.name.title()} is {self.age} yrs old and living in {self.loc}')\n",
    "    def hi(self):\n",
    "        print(\"Parent Class\")\n",
    "        \n",
    "        \n",
    "class MoreUserInfo(UserInfo):                  # Child Class\n",
    "    def __init__(self,name,age,loc):          # __init__  takes in the information required to make a instance of child class as usual.\n",
    "        super().__init__(name,age,loc)        #  super() function allows you to call a method from the parent class.\n",
    "        self.mem = 7                          # defining Attribute for the Child Class.\n",
    "        self.exp = Exp()                      # Instances as Attributes.\n",
    "    def pr(self):                             # defining Methods for the Child Class:   ---->   method 1 \n",
    "        super().details()\n",
    "    def fam_mem(self):                        # defining Methods for the Child Class:   ---->   method 2\n",
    "        print(f\"{self.name.title()} has {self.mem} family members\")\n",
    "    def hi(self):                             # method overriding for parent class\n",
    "        print(\"Child class\")\n",
    "    \n",
    "\n",
    "class Exp:\n",
    "    def userexp(self,exp=0):                  # optional/default parameter with value 0 if nothing is provided.\n",
    "        if exp >= 0:\n",
    "            print(f\"Exp is {exp} yrs\")\n",
    "        else:\n",
    "            print(\"Exp can't be negative\")\n",
    "\n",
    "user1 = UserInfo('xxx','20','cud')\n",
    "user1.hi()\n",
    "user1.details()\n",
    "user1 = MoreUserInfo('xxx',19,'che')   # ---> same name obj will override\n",
    "user1.hi()\n",
    "user1.details()\n",
    "user1.pr()\n",
    "user1.fam_mem()\n",
    "user1.exp.userexp()\n",
    "user1.exp.userexp(14)\n",
    "user1.exp.userexp(-14)"
   ]
  },
  {
   "cell_type": "markdown",
   "id": "9df64b48-58d8-4c06-8b61-d0e5672491eb",
   "metadata": {},
   "source": [
    "#### Modeling Real-World Objects:\n",
    "If you are working with multiple classes make sure the modeling is done right. For example, if you begin to model more complicated things like electric cars, you’ll wrestle with interesting questions. Is the range(km) of an electric car a property\n",
    "of the battery(class) or of the car(class) ? If we’re only describing one car, it’s probably\n",
    "fine to maintain the association of the method get_range() with the Battery\n",
    "class. But if we’re describing a manufacturer’s entire line of cars, we probably want to move get_range() to the ElectricCar class. So make it in an effi way. "
   ]
  },
  {
   "cell_type": "markdown",
   "id": "4dd17c61-c487-4e54-b5e3-2564997679dc",
   "metadata": {},
   "source": [
    "#### Importing Classes:\n",
    "As you add more functionality to your classes, your files can get long, even\n",
    "when you use inheritance properly.  \n",
    "To help,\n",
    "Python lets you store classes in modules and then import the classes you\n",
    "need into your main program.\n",
    "#### Importing a Single Class:\n",
    "##### Syntax:  \n",
    "from filename import classname  \n",
    "#### Storing Multiple Classes in a Module:\n",
    "You can store multiple classes in a single file/module to import.  \n",
    "#### Importing Multiple Classes from a Module:\n",
    "##### Syntax:\n",
    "from filename import classname1, classname2, ...  \n",
    "#### Importing an Entire Module:\n",
    "##### Syntax:\n",
    "import filename  \n",
    "obj = filename.classname()\n",
    "#### Importing All Classes from a Module\n",
    "##### Syntax:\n",
    "from filename import *  \n",
    "Everything in the module is imported into your current namespace (functions, variables, classes), which could lead to name conflicts if multiple modules have classes or functions with the same name. (try to avoid)\n",
    "#### Importing a Module into a Module:\n",
    "Sometimes you’ll want to spread out your classes over several modules\n",
    "to keep any one file from growing too large and avoid storing unrelated\n",
    "classes in the same module. When you store your classes in several modules,\n",
    "you may find that a class in one module depends on a class in another module. When this happens, you can import the required class into the first\n",
    "module.  \n",
    "\n",
    "  \n",
    "from car import Car &nbsp;&nbsp;&nbsp;&nbsp;&nbsp;&nbsp;&nbsp;&nbsp;&nbsp;&nbsp;&nbsp;&nbsp; # electric_car.py  , car.py is imported in it.  \n",
    "class Battery:  \n",
    "&nbsp;&nbsp;&nbsp;&nbsp;--snip--  \n",
    "  \n",
    "class ElectricCar(Car):  \n",
    "&nbsp;&nbsp;&nbsp;&nbsp;--snip--  \n",
    "\n",
    "class Car:&nbsp;&nbsp;&nbsp;&nbsp;&nbsp;&nbsp;&nbsp;&nbsp;&nbsp;&nbsp;&nbsp;&nbsp; # car.py  \n",
    "&nbsp;&nbsp;&nbsp;&nbsp;--snip--  \n",
    "\n",
    "from car import Car&nbsp;&nbsp;&nbsp;&nbsp;&nbsp;&nbsp;&nbsp;&nbsp;&nbsp;&nbsp;&nbsp;&nbsp; # current.py  \n",
    "from electric_car import ElectricCar  \n",
    "\n",
    "#### Using Aliases:\n",
    "##### Syntax:\n",
    "from filename import classname as cn\n",
    "#### Finding Your Own Workflow:\n",
    "When you’re starting out, keep your code structure simple. Try\n",
    "doing everything in one file and moving your classes to separate modules\n",
    "once everything is working. If you like how modules and files interact, try\n",
    "storing your classes in modules when you start a project. Find an approach\n",
    "that lets you write code that works, and go from there.\n",
    "#### The Python Standard Library:\n",
    "The Python standard library is a set of modules included with every Python\n",
    "installation.  \n",
    "Let’s look\n",
    "at one module, random, which can be useful in modeling many real-world\n",
    "situations.  \n",
    "One interesting function from the random module is randint().  \n",
    "This function takes two integer arguments and returns a randomly selected integer between (and including) those numbers.  \n",
    "  \n",
    "\\>>> from random import randint  \n",
    "\\>>> randint(1, 6)  \n",
    "3  \n",
    "  \n",
    "Another useful function is choice(). This function takes in a list or tuple\n",
    "and returns a randomly chosen element:    \n",
    "  \n",
    "\\>>> from random import choice  \n",
    "\\>>> players = ['charles', 'martina', 'michael', 'florence', 'eli']  \n",
    "\\>>> first_up = choice(players)  \n",
    "\\>>> first_up  \n",
    "'florence  \n",
    "\n",
    "You can also download modules from external sources. When need external modules to complete each project.\n",
    "##### Styling Classes:\n",
    "Class names should be written in CamelCase. To do this, capitalize the\n",
    "first letter of each word in the name, and don’t use underscores. Instance\n",
    "and module names should be written in lowercase with underscores between\n",
    "words."
   ]
  },
  {
   "cell_type": "markdown",
   "id": "3d557d43-7c64-4924-a2ab-3deef82da3fe",
   "metadata": {},
   "source": [
    "#### ----- THANK YOU -----     \n",
    "DATE : 09 DEC 2024"
   ]
  }
 ],
 "metadata": {
  "kernelspec": {
   "display_name": "Python 3 (ipykernel)",
   "language": "python",
   "name": "python3"
  },
  "language_info": {
   "codemirror_mode": {
    "name": "ipython",
    "version": 3
   },
   "file_extension": ".py",
   "mimetype": "text/x-python",
   "name": "python",
   "nbconvert_exporter": "python",
   "pygments_lexer": "ipython3",
   "version": "3.11.3"
  }
 },
 "nbformat": 4,
 "nbformat_minor": 5
}
