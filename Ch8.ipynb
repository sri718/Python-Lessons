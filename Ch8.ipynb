{
 "cells": [
  {
   "cell_type": "markdown",
   "id": "2dae5fbd-d173-456c-8f21-f3a741f47f8e",
   "metadata": {},
   "source": [
    "## 8. FUNCTIONS:\n",
    "   It is used to do specific job for 'n' no. of times by calling it."
   ]
  },
  {
   "cell_type": "markdown",
   "id": "896462a3-8e6c-498c-9879-dfd12f538b4a",
   "metadata": {},
   "source": [
    "#### Defining a Function:\n",
    "This example shows the simplest structure of a function. The line at uses the keyword def to inform Python that you’re defining a function. This\n",
    "is the function definition."
   ]
  },
  {
   "cell_type": "code",
   "execution_count": 81,
   "id": "8ebe27f6-b0a6-4d1f-b9e2-62c171558cdb",
   "metadata": {},
   "outputs": [
    {
     "name": "stdout",
     "output_type": "stream",
     "text": [
      "Hi,buddy\n",
      "Hi,buddy\n"
     ]
    }
   ],
   "source": [
    "def hi():\n",
    "    \"\"\"Display a simple greeting.\"\"\" #Docstring, which describes what the function does\n",
    "    print(\"Hi,buddy\")\n",
    "hi()\n",
    "hi() # using multiple times"
   ]
  },
  {
   "cell_type": "markdown",
   "id": "8a103114-960b-4e90-b047-1644f1c9bf44",
   "metadata": {},
   "source": [
    "#### Passing Information to a Function:\n",
    " The function hi() can not only tell the user Hi! but also greet them by name. For the function to do this, you enter name\n",
    "in the parentheses of the function’s definition at def hi(). --> hi(name)"
   ]
  },
  {
   "cell_type": "code",
   "execution_count": 82,
   "id": "00e4e4cc-eabf-46f4-a7b5-01d00f52dd14",
   "metadata": {},
   "outputs": [
    {
     "name": "stdout",
     "output_type": "stream",
     "text": [
      "Hi,xxx\n"
     ]
    }
   ],
   "source": [
    "def hi(name):\n",
    "    print(f\"Hi,{name}\")\n",
    "hi('xxx')"
   ]
  },
  {
   "cell_type": "markdown",
   "id": "73af89fd-8f71-481b-84fc-ae213ffb9878",
   "metadata": {},
   "source": [
    "#### Arguments and Parameters:\n",
    "The variable name in the definition of hi() is an example of a parameter, a piece of information the function needs to do its job. The value\n",
    "'xxx' in hi('xxx') is an example of an argument. An argument is a piece of information that’s passed from a function call to a function. "
   ]
  },
  {
   "cell_type": "markdown",
   "id": "4f26bd49-2f20-45f8-86f8-870ed7dcb33e",
   "metadata": {},
   "source": [
    "#### Passing Arguments:\n",
    "a) Positional arguments, which need to be in the same order the parameters were written.\n",
    "b) Keyword arguments, where each argument consists of a variable name and a value; and lists and dictionaries\n",
    "of values.\n",
    "\n",
    "#### a) Positional Arguments:"
   ]
  },
  {
   "cell_type": "code",
   "execution_count": 83,
   "id": "dc9e0ef6-1815-4e88-90e7-fb08527f4905",
   "metadata": {},
   "outputs": [
    {
     "name": "stdout",
     "output_type": "stream",
     "text": [
      "xxx is 21 yrs old.\n",
      "yyy is 25 yrs old.\n",
      "21 is zzz yrs old.\n"
     ]
    }
   ],
   "source": [
    "def pa(name,age):\n",
    "    print(f\"{name} is {age} yrs old.\")\n",
    "pa('xxx','21')\n",
    "pa('yyy','25') # Multiple Function Calls\n",
    "pa('21','zzz') # Order Matters in Positional Arguments"
   ]
  },
  {
   "cell_type": "markdown",
   "id": "91835f07-3470-4c37-a041-ba00bd04d0e7",
   "metadata": {},
   "source": [
    "#### b) Keyword Arguments:\n",
    "A keyword argument is a name-value pair that you pass to a function. You directly associate the name and the value within the argument."
   ]
  },
  {
   "cell_type": "code",
   "execution_count": 84,
   "id": "53bfc8a8-2eaf-4361-b20c-c97064d2d862",
   "metadata": {},
   "outputs": [
    {
     "name": "stdout",
     "output_type": "stream",
     "text": [
      "xxx is 25 yrs old.\n",
      "yyy is 21 yrs old.\n"
     ]
    }
   ],
   "source": [
    "def ka(name,age):\n",
    "    print(f\"{name} is {age} yrs old.\")\n",
    "ka(name='xxx',age='25') # When you use keyword arguments, be sure to use the exact names of the parameters in the function’s definition.\n",
    "ka(age='21',name='yyy') # Order Doesn't Matters in Keyword Arguments"
   ]
  },
  {
   "cell_type": "markdown",
   "id": "c4f93171-cbd0-4dfe-a92c-3ed37c670a12",
   "metadata": {},
   "source": [
    "#### Default Values:\n",
    "When writing a function, you can define a default value for each parameter.\n",
    "If an argument for a parameter is provided in the function call, Python uses\n",
    "the argument value. If not, it uses the parameter’s default value."
   ]
  },
  {
   "cell_type": "code",
   "execution_count": 85,
   "id": "ca9dbf98-bb6c-4025-8bab-888d797090b6",
   "metadata": {},
   "outputs": [
    {
     "name": "stdout",
     "output_type": "stream",
     "text": [
      "xxx lives in cud\n",
      "yyy lives in che\n"
     ]
    }
   ],
   "source": [
    "def ka(name,loc='che'): \n",
    "    # When you use default values, any parameter with a default value needs to be listed all the parameters that don’t have default values. \n",
    "    # This allows Python to continue interpreting positional arguments correctly.\n",
    "    print(f'{name} lives in {loc}')\n",
    "ka(name='xxx',loc='cud')\n",
    "ka(name='yyy')"
   ]
  },
  {
   "cell_type": "markdown",
   "id": "eefd05ab-2fa6-4d33-98b2-78a618a30340",
   "metadata": {},
   "source": [
    "#### Equivalent Function Calls:\n",
    "Because positional arguments, keyword arguments, and default values can all be used together, often you’ll have several equivalent ways to call a function."
   ]
  },
  {
   "cell_type": "code",
   "execution_count": 86,
   "id": "708e0c18-4322-4e6a-950e-4a6298d93f6e",
   "metadata": {},
   "outputs": [
    {
     "name": "stdout",
     "output_type": "stream",
     "text": [
      "aaa lives in che\n",
      "aaa lives in che\n",
      "aaa lives in cud\n",
      "aaa lives in cud\n",
      "aaa lives in cud\n"
     ]
    }
   ],
   "source": [
    "def ka(name,loc='che'): \n",
    "    print(f'{name} lives in {loc}')\n",
    "ka('aaa')\n",
    "ka(name='aaa')\n",
    "ka('aaa','cud')\n",
    "ka(name='aaa',loc='cud')\n",
    "ka(loc='cud',name='aaa') \n",
    "# It doesn’t really matter which calling style you use.\n",
    "# As long as your function calls produce the output you want, just use the style you find easiest to understand. \"\"\""
   ]
  },
  {
   "cell_type": "markdown",
   "id": "6757f597-ed10-4269-a665-f5b5f8a0a003",
   "metadata": {},
   "source": [
    "#### Avoiding Argument Errors:\n",
    "Unmatched arguments occur when you provide fewer or more arguments than a function needs to do its work. "
   ]
  },
  {
   "cell_type": "code",
   "execution_count": 87,
   "id": "17cb578f-be94-4be4-a251-9b44650eeb20",
   "metadata": {},
   "outputs": [
    {
     "ename": "TypeError",
     "evalue": "hi() missing 1 required positional argument: 'name'",
     "output_type": "error",
     "traceback": [
      "\u001b[1;31m---------------------------------------------------------------------------\u001b[0m",
      "\u001b[1;31mTypeError\u001b[0m                                 Traceback (most recent call last)",
      "Cell \u001b[1;32mIn[87], line 3\u001b[0m\n\u001b[0;32m      1\u001b[0m \u001b[38;5;28;01mdef\u001b[39;00m \u001b[38;5;21mhi\u001b[39m(name):\n\u001b[0;32m      2\u001b[0m     \u001b[38;5;28mprint\u001b[39m(\u001b[38;5;124mf\u001b[39m\u001b[38;5;124m'\u001b[39m\u001b[38;5;124mHi,\u001b[39m\u001b[38;5;132;01m{\u001b[39;00mname\u001b[38;5;132;01m}\u001b[39;00m\u001b[38;5;124m'\u001b[39m)\n\u001b[1;32m----> 3\u001b[0m \u001b[43mhi\u001b[49m\u001b[43m(\u001b[49m\u001b[43m)\u001b[49m\n",
      "\u001b[1;31mTypeError\u001b[0m: hi() missing 1 required positional argument: 'name'"
     ]
    }
   ],
   "source": [
    "def hi(name):\n",
    "    print(f'Hi,{name}')\n",
    "hi()"
   ]
  },
  {
   "cell_type": "markdown",
   "id": "ceec5ce7-baae-4ef8-a810-ffe0edace8b6",
   "metadata": {},
   "source": [
    "Python recognizes that some information is missing from the function\n",
    "call, and the traceback tells us that. Similarly, if you provide too many arguments, you should get a similar traceback that can help you correctly match your function call to the function definition."
   ]
  },
  {
   "cell_type": "markdown",
   "id": "57eb5f66-f0b7-4461-b912-4a1c56e52621",
   "metadata": {},
   "source": [
    "#### Return Values:\n",
    "A function doesn’t always have to display its output directly. Instead, it can process some data and then return a value or set of values. The value the function returns is called a return value. The return statement takes a value from inside a function and sends it back to the line that called the function."
   ]
  },
  {
   "cell_type": "markdown",
   "id": "67073991-8c3a-444e-8917-ee8d205516ce",
   "metadata": {},
   "source": [
    "#### Returning a Simple Value:\n",
    "Let’s look at a function that takes a first and last name, and returns a neatly\n",
    "formatted full name:"
   ]
  },
  {
   "cell_type": "code",
   "execution_count": 88,
   "id": "0ca4060f-d250-4c67-ae75-0b07dc3b6041",
   "metadata": {},
   "outputs": [
    {
     "name": "stdout",
     "output_type": "stream",
     "text": [
      "xxx zzz\n"
     ]
    }
   ],
   "source": [
    "def funame(fname,lname):\n",
    "    fullname=fname+\" \"+lname\n",
    "    return fullname\n",
    "print(funame('xxx','zzz'))"
   ]
  },
  {
   "cell_type": "markdown",
   "id": "6fb04422-5ed4-49dc-a15a-aa4942c4f675",
   "metadata": {},
   "source": [
    "#### Making an Argument Optional:\n",
    "Sometimes it makes sense to make an argument optional so that people\n",
    "using the function can choose to provide extra information only if they\n",
    "want to."
   ]
  },
  {
   "cell_type": "code",
   "execution_count": 89,
   "id": "5ecb7553-3e55-4868-af07-8117a927d5e8",
   "metadata": {},
   "outputs": [
    {
     "name": "stdout",
     "output_type": "stream",
     "text": [
      "xxx zzz yyy\n",
      "xxx zzz\n"
     ]
    }
   ],
   "source": [
    "def funame(fname,lname,mname=''): # can use mname=None\n",
    "    if mname:\n",
    "        fullname=fname+\" \"+mname+\" \"+lname\n",
    "    else:\n",
    "        fullname=f'{fname} {lname}'\n",
    "    return fullname\n",
    "print(funame('xxx','yyy','zzz'))\n",
    "print(funame('xxx','zzz'))"
   ]
  },
  {
   "cell_type": "markdown",
   "id": "61613d22-fb66-4fea-a065-5e18afb755c9",
   "metadata": {},
   "source": [
    "### Returning a Dictionary:\n",
    "A function can return any kind of value you need it to, including more complicated data structures like lists and dictionaries. "
   ]
  },
  {
   "cell_type": "code",
   "execution_count": 90,
   "id": "3d3d4ea9-fde1-4680-9c88-fc7dfd40ae56",
   "metadata": {},
   "outputs": [
    {
     "name": "stdout",
     "output_type": "stream",
     "text": [
      "{'fname': 'aa', 'lname': 'bb'}\n",
      "{'fname': 'aa', 'lname': 'bb', 'age': 18}\n"
     ]
    }
   ],
   "source": [
    "def rd(fn,ln,age=None):  # with optional parameter 'age'\n",
    "    di={'fname':fn,'lname':ln}\n",
    "    if age:\n",
    "        di['age']=age\n",
    "    return di\n",
    "print(rd('aa','bb'))\n",
    "print(rd('aa','bb',18))"
   ]
  },
  {
   "cell_type": "markdown",
   "id": "705ed2a9-43c7-4d13-b43a-a7a52991ce43",
   "metadata": {},
   "source": [
    "#### Using a Function with a while Loop\n",
    "We can use functions with all the Python structures we’ve learned."
   ]
  },
  {
   "cell_type": "code",
   "execution_count": 91,
   "id": "523ef7a7-5036-40cf-a858-079240774654",
   "metadata": {},
   "outputs": [
    {
     "name": "stdout",
     "output_type": "stream",
     "text": [
      "ENTER FIRST AND LAST NAME :\n",
      "q to Quit\n"
     ]
    },
    {
     "name": "stdin",
     "output_type": "stream",
     "text": [
      "first name : aaa\n",
      "last name : bbb\n"
     ]
    },
    {
     "name": "stdout",
     "output_type": "stream",
     "text": [
      "Hi,aaa bbb\n",
      "\n",
      "ENTER FIRST AND LAST NAME :\n",
      "q to Quit\n"
     ]
    },
    {
     "name": "stdin",
     "output_type": "stream",
     "text": [
      "first name : q\n"
     ]
    },
    {
     "name": "stdout",
     "output_type": "stream",
     "text": [
      "\n",
      "Done\n"
     ]
    }
   ],
   "source": [
    "def funame(fname,lname):\n",
    "    fullname=fname+\" \"+lname\n",
    "    return fullname\n",
    "while True:\n",
    "    print(\"ENTER FIRST AND LAST NAME :\")\n",
    "    print(\"q to Quit\")\n",
    "    f = input(\"first name :\")\n",
    "    if f == 'q':\n",
    "        break\n",
    "    l = input(\"last name :\")\n",
    "    if l == 'q':\n",
    "        break\n",
    "    print(f'Hi,{funame(f,l)}\\n')\n",
    "print('\\nDone')"
   ]
  },
  {
   "cell_type": "markdown",
   "id": "b60de272-8bf7-4166-8070-9bd254125e18",
   "metadata": {},
   "source": [
    "#### Passing a List:\n",
    "When you\n",
    "pass a list to a function, the function gets direct access to the contents of\n",
    "the list. Let’s use functions to make working with lists more efficient."
   ]
  },
  {
   "cell_type": "code",
   "execution_count": 92,
   "id": "a9efd05d-aca7-4dfc-88c6-09c3de0aa8c7",
   "metadata": {},
   "outputs": [
    {
     "name": "stdout",
     "output_type": "stream",
     "text": [
      "Hello,xxx\n",
      "Hello,yyy\n",
      "Hello,zzz\n"
     ]
    }
   ],
   "source": [
    "def hello(listn): # listn is the list.\n",
    "    for item in listn:\n",
    "        print(f'Hello,{item}')\n",
    "names=['xxx','yyy','zzz']\n",
    "hello(names)"
   ]
  },
  {
   "cell_type": "markdown",
   "id": "765921db-2f3a-4d33-8625-984e5da6dd1e",
   "metadata": {},
   "source": [
    "#### Modifying a List in a Function:\n",
    "When you pass a list to a function, the function can modify the list. Any\n",
    "changes made to the list inside the function’s body are permanent, allowing\n",
    "you to work efficiently even when you’re dealing with large amounts of data."
   ]
  },
  {
   "cell_type": "code",
   "execution_count": 93,
   "id": "437bbe0f-df98-4237-b0b4-ef2dddf74f03",
   "metadata": {},
   "outputs": [
    {
     "name": "stdout",
     "output_type": "stream",
     "text": [
      "[]\n",
      "['a', 'b', 'c']\n"
     ]
    }
   ],
   "source": [
    "def mvlist(list1,list2):\n",
    "    while list1:\n",
    "        item = list1.pop()\n",
    "        list2.append(item) \n",
    "l1=['c','b','a']\n",
    "l2=[]\n",
    "mvlist(l1,l2) # changes will be permanent\n",
    "print(l1)\n",
    "print(l2)"
   ]
  },
  {
   "cell_type": "markdown",
   "id": "ef5a1ade-3795-4ccb-909e-bada00953ccb",
   "metadata": {},
   "source": [
    "#### Preventing a Function from Modifying a List:\n",
    "Sometimes you’ll want to prevent a function from modifying a list. This can be done by passing the function a\n",
    "copy of the list, not the original. Any changes the function makes to the list\n",
    "will affect only the copy, leaving the original list intact.  ( function_name(list_name[:]) )"
   ]
  },
  {
   "cell_type": "code",
   "execution_count": 94,
   "id": "2b8c2f23-ff83-4e0c-98ba-acf47e5c10a1",
   "metadata": {},
   "outputs": [
    {
     "name": "stdout",
     "output_type": "stream",
     "text": [
      "['c', 'b', 'a']\n",
      "['a', 'b', 'c']\n"
     ]
    }
   ],
   "source": [
    "def mvlist(list1,list2): \n",
    "    while list1:\n",
    "        item = list1.pop()\n",
    "        list2.append(item) \n",
    "l1=['c','b','a']\n",
    "l2=[]\n",
    "mvlist(l1[:],l2) #[:] is used to prevent the list1\n",
    "print(l1)\n",
    "print(l2)"
   ]
  },
  {
   "cell_type": "markdown",
   "id": "3d46de94-7884-42ee-adb9-fdf8fbfaa412",
   "metadata": {},
   "source": [
    "#### Passing an Arbitrary Number of Arguments:\n",
    "Sometimes you won’t know ahead of time how many arguments a function needs to accept. Fortunately, Python allows a function to collect an arbitrary number of arguments from the calling statement. "
   ]
  },
  {
   "cell_type": "code",
   "execution_count": 95,
   "id": "afb64bbc-5c5b-4122-8388-d72b38e584bf",
   "metadata": {},
   "outputs": [
    {
     "name": "stdout",
     "output_type": "stream",
     "text": [
      "(2, 8, 5)\n",
      "15\n"
     ]
    }
   ],
   "source": [
    "def summ(*nums): # '*' to collects as many arguments as the callingline provides:\n",
    "    print(nums)\n",
    "    a=0\n",
    "    for num in nums:\n",
    "        a+=num\n",
    "    print(a)\n",
    "summ(2,8,5)"
   ]
  },
  {
   "cell_type": "markdown",
   "id": "f2037daf-5714-477d-8142-f08f886fffbc",
   "metadata": {},
   "source": [
    "#### Mixing Positional and Arbitrary Arguments :\n",
    "If you want a function to accept several different kinds of arguments, the parameter that accepts an arbitrary number of arguments must be placed last in the function definition. Python matches positional and keyword arguments first and then collects any remaining arguments in the final parameter."
   ]
  },
  {
   "cell_type": "code",
   "execution_count": 96,
   "id": "be19a58d-8b82-4ec0-9b29-568e45fad00f",
   "metadata": {},
   "outputs": [
    {
     "name": "stdout",
     "output_type": "stream",
     "text": [
      "(2, 8, 5)\n",
      "sum of no. is 15\n"
     ]
    }
   ],
   "source": [
    "def summ(ope,*nums): # '*' to collects as many arguments as the callingline provides:\n",
    "    print(nums)\n",
    "    a=0\n",
    "    for num in nums:\n",
    "        a+=num\n",
    "    print(f'{ope} is {a}')\n",
    "summ('sum of no.',2,8,5)"
   ]
  },
  {
   "cell_type": "markdown",
   "id": "2ec7a4ee-9460-400b-ba45-721bc40d42c4",
   "metadata": {},
   "source": [
    "#### Using Arbitrary Keyword Arguments:\n",
    "Sometimes you’ll want to accept an arbitrary number of arguments, but you\n",
    "won’t know ahead of time what kind of information will be passed to the\n",
    "function. In this case, you can write functions that accept as many key-value\n",
    "pairs as the calling statement provides. Using **."
   ]
  },
  {
   "cell_type": "code",
   "execution_count": 97,
   "id": "2d679206-eb67-45d7-8fb9-0c2d99d00361",
   "metadata": {},
   "outputs": [
    {
     "name": "stdout",
     "output_type": "stream",
     "text": [
      " Info of xxx yyy\n",
      "21\n",
      "{'age': '21', 'loc': 'che'}\n",
      " Info of aaa bbb\n",
      "{}\n"
     ]
    }
   ],
   "source": [
    "def aka(fn,ln,**info):\n",
    "    print(f' Info of {fn} {ln}')\n",
    "    if 'age' in info:\n",
    "        print(info['age'])\n",
    "    return info\n",
    "print(aka('xxx','yyy',age='21',loc='che'))\n",
    "print(aka('aaa','bbb'))"
   ]
  },
  {
   "cell_type": "markdown",
   "id": "eb72b528-31bf-41c6-b313-50a596b6c242",
   "metadata": {},
   "source": [
    "The double asterisks before the parameter **info causes Python to create\n",
    "an empty dictionary called info and pack whatever name-value pairs\n",
    "it receives into this dictionary. Within the function, you can access the keyvalue pairs in info just as you would for any dictionary."
   ]
  },
  {
   "cell_type": "markdown",
   "id": "37fa9d75-c122-4534-96d0-8e7336962144",
   "metadata": {},
   "source": [
    "#### Storing Your Functions in Modules:\n",
    "We can store our functions in a separate file called a module and then importing that module into our main program. An import statement tells Python to\n",
    "make the code in a module available in the currently running program file. It also allows you to reuse functions in many different programs. When you store your functions in separate files, you can share those files with other programmers without having to share your entire program.\n",
    "\n",
    "#### Importing an Entire Module:\n",
    "To start importing functions, we first need to create a module. A module\n",
    "is a file ending in .py that contains the code we want to import into our program."
   ]
  },
  {
   "cell_type": "code",
   "execution_count": 98,
   "id": "a68c02d4-bab7-426a-b3d1-3960437f46cb",
   "metadata": {},
   "outputs": [],
   "source": [
    "# fun.py\n",
    "def fn(a):\n",
    "    print(f\"Hi,{a}\")\n",
    "# It is a same module. We need to create this out in same dir."
   ]
  },
  {
   "cell_type": "code",
   "execution_count": 99,
   "id": "54127111-f638-46db-bb06-af323a4adffc",
   "metadata": {
    "scrolled": true
   },
   "outputs": [
    {
     "ename": "ModuleNotFoundError",
     "evalue": "No module named 'fun'",
     "output_type": "error",
     "traceback": [
      "\u001b[1;31m---------------------------------------------------------------------------\u001b[0m",
      "\u001b[1;31mModuleNotFoundError\u001b[0m                       Traceback (most recent call last)",
      "Cell \u001b[1;32mIn[99], line 2\u001b[0m\n\u001b[0;32m      1\u001b[0m \u001b[38;5;66;03m# current programming file\u001b[39;00m\n\u001b[1;32m----> 2\u001b[0m \u001b[38;5;28;01mimport\u001b[39;00m \u001b[38;5;21;01mfun\u001b[39;00m\n\u001b[0;32m      3\u001b[0m fun\u001b[38;5;241m.\u001b[39mfn(\u001b[38;5;124m'\u001b[39m\u001b[38;5;124mxxx\u001b[39m\u001b[38;5;124m'\u001b[39m) \u001b[38;5;66;03m# module_name.function_name()\u001b[39;00m\n\u001b[0;32m      4\u001b[0m \u001b[38;5;66;03m# here, error occurs do to no module.\u001b[39;00m\n",
      "\u001b[1;31mModuleNotFoundError\u001b[0m: No module named 'fun'"
     ]
    }
   ],
   "source": [
    "# current programming file\n",
    "import fun\n",
    "fun.fn('xxx') # module_name.function_name()\n",
    "# here, error occurs do to no module."
   ]
  },
  {
   "cell_type": "markdown",
   "id": "46e911d3-adf7-4712-a8c4-e0adce5bb4b7",
   "metadata": {},
   "source": [
    "#### Importing Specific Functions:\n",
    "##### Syntax:  \n",
    "from module_name import function_name  \n",
    "from module_name import function_0, function_1, function_2\n",
    "\n",
    "##### Eg.\n",
    "from fun import fn  \n",
    "fn('xxx') # function_name()\n",
    "\n",
    "The general syntax for providing an alias is:\n",
    "\n",
    "##### Syntax:  \n",
    "from module_name import function_name as fn  \n",
    "from module_name import function1 as fn1, function2 as fn2\n",
    "\n",
    "##### Eg.  \n",
    "from fun import fn as f1  \n",
    "f1('xxx') \n",
    "\n",
    "#### Using as to Give a Module an Alias:\n",
    "You can also provide an alias for a module name. \n",
    "\n",
    "##### Syntax:  \n",
    "import module_name as mn\n",
    "\n",
    "###### Eg.  \n",
    "import fun as f  \n",
    "f.fn('ccc')\n",
    "\n",
    "#### Importing All Functions in a Module:\n",
    "You can tell Python to import every function in a module by using the asterisk (*) operator:\n",
    "\n",
    "##### Syntax:  \n",
    "from module_name import *\n",
    "\n",
    "##### Eg.  \n",
    "from fun import *\n",
    "\n",
    "#### Styling Functions:\n",
    "If you specify a default value for a parameter, no spaces should be used\n",
    "on either side of the equal sign:\n",
    "\n",
    "##### Syntax:  \n",
    "def function_name(parameter_0, parameter_1='default value')\n",
    "\n",
    "The same convention should be used for keyword arguments in function calls:\n",
    "\n",
    "##### Syntax:  \n",
    "function_name(value_0, parameter_1='value')\n",
    "\n",
    "Limit the lines of code to 79 characters so every line is visible in a reasonably\n",
    "sized editor window. If a set of parameters causes a function’s definition to\n",
    "be longer than 79 characters, press ener after the opening parenthesis on\n",
    "the definition line. On the next line, press a twice to separate the list of\n",
    "arguments from the body of the function, which will only be indented one\n",
    "level.  \n",
    "\n",
    "Most editors automatically line up any additional lines of parameters to\n",
    "match the indentation you have established on the first line:  \n",
    "\n",
    "##### Syntax:  \n",
    "\n",
    "def function_name(  \n",
    "        parameter_0, parameter_1, parameter_2,  \n",
    "        parameter_3, parameter_4, parameter_5):  \n",
    "    function body...  \n",
    "\n",
    "If your program or module has more than one function, you can separate each by two blank lines to make it easier to see where one function\n",
    "ends and the next one begins.  \n",
    "\n",
    "All import statements should be written at the beginning of a file.\n",
    "The only exception is if you use comments at the beginning of your file to\n",
    "describe the overall program.\n"
   ]
  },
  {
   "cell_type": "markdown",
   "id": "c612f4de-2070-4145-8e5f-233240faaa09",
   "metadata": {},
   "source": [
    "#### ----- THANK YOU -----     \n",
    "DATE : 07 DEC 2024"
   ]
  }
 ],
 "metadata": {
  "kernelspec": {
   "display_name": "Python 3 (ipykernel)",
   "language": "python",
   "name": "python3"
  },
  "language_info": {
   "codemirror_mode": {
    "name": "ipython",
    "version": 3
   },
   "file_extension": ".py",
   "mimetype": "text/x-python",
   "name": "python",
   "nbconvert_exporter": "python",
   "pygments_lexer": "ipython3",
   "version": "3.11.3"
  }
 },
 "nbformat": 4,
 "nbformat_minor": 5
}
