{
 "cells": [
  {
   "cell_type": "markdown",
   "id": "96dea7fd-307d-4e5c-9526-a47c4dcff2a7",
   "metadata": {},
   "source": [
    "## 10. FILES and EXCEPTIONS\n",
    "#### Reading from a File:\n",
    "When you want to work with the information in a text file, the first step\n",
    "is to read the file into memory. You can read the entire contents of a file, or\n",
    "you can work through the file one line at a time.  \n",
    "#### Reading an Entire File:\n",
    "1. The below program and the file which is used to read is in the same dir.  \n",
    "2. \"with\" in Python will close the file automatically when the access to the file is no l̥onger available.  \n",
    "3. open() is to open the file.  \n",
    "4. Python creates a obj which represents the text file which is 'file_obj' here.  \n",
    "5. The entire content of the file is stored as a string which is assigned to 'content' here.  \n",
    "6. read() is to read the file.  "
   ]
  },
  {
   "cell_type": "code",
   "execution_count": 94,
   "id": "38628bf4-261c-49c2-a01c-bb2cef7413d5",
   "metadata": {},
   "outputs": [
    {
     "name": "stdout",
     "output_type": "stream",
     "text": [
      "1. The first item on the list is apple.\n",
      "2. There are two types of oranges.\n",
      "3. Three birds flew across the sky.\n",
      "4. I have four pencils in my desk.\n",
      "5. She bought five books at the store.\n"
     ]
    }
   ],
   "source": [
    "with open('file4test.txt') as file_obj:         # file4test.txt - file name\n",
    "    content = file_obj.read()\n",
    "print(content)"
   ]
  },
  {
   "cell_type": "markdown",
   "id": "4fecaee7-1a91-45b3-80cd-79807c5ad030",
   "metadata": {},
   "source": [
    "The only difference between this output and the original file is the\n",
    "extra blank line at the end of the output. The blank line appears because\n",
    "read() returns an empty string when it reaches the end of the file; this empty\n",
    "string shows up as a blank line. If you want to remove the extra blank line,\n",
    "you can use rstrip() in the call to print().   \n",
    "__print(content.rstrip())__  \n",
    "#### File Paths:\n",
    "To get Python to open files from a directory other than the one where your program file is stored,  \n",
    "you need to provide a file path, which tells Python to look in a specific location on your system.  \n",
    "\n",
    "A 'relative file path' tells Python to look for a given location relative to the directory  \n",
    "where the currently running program file is stored.  \n",
    "If it is in same dir but in diff folder,  \n",
    "__with open('folder_name/file_name') as file_obj:__    \n",
    "  \n",
    "You can also tell Python exactly where the file is on your computer\n",
    "regardless of where the program that’s being executed is stored. This\n",
    "is called an 'absolute file path'. You use an absolute path if a relative path\n",
    "doesn’t work.  \n",
    "__Eg:__  \n",
    "__file_path = '/home/ehmatthes/other_files/text_files/filename.txt'  \n",
    "with open(file_path) as file_object:__  \n",
    "\n",
    "#### NOTE:\n",
    "1. Windows systems use a backslash (\\) instead of a forward slash (/) when displaying file paths,\n",
    "but you can still use forward slashes in your code.\n",
    "2. If you try to use backslashes in a file path, you’ll get an error because the backslash is used to escape characters\n",
    "in strings. For example, in the path \"C:\\path\\to\\file.txt\", the sequence \\t is interpreted as a tab.\n",
    "If you need to use backslashes, you can escape each one in the path, like this: \"C:\\\\path\\\\to\\\\file.txt\".\n",
    "\n",
    "#### Reading Line by Line:\n",
    "When you’re reading a file, you’ll often want to examine each line of the file.  \n",
    "You can use a for loop on the file object to examine each line from a file one at a time:"
   ]
  },
  {
   "cell_type": "code",
   "execution_count": 95,
   "id": "bc2cc1a9-2bb7-495a-9f74-110d7c3109b2",
   "metadata": {},
   "outputs": [
    {
     "name": "stdout",
     "output_type": "stream",
     "text": [
      "1. The first item on the list is apple.\n",
      "2. There are two types of oranges.\n",
      "3. Three birds flew across the sky.\n",
      "4. I have four pencils in my desk.\n",
      "5. She bought five books at the store."
     ]
    }
   ],
   "source": [
    "file = 'file4test.txt'                          # just store the file name as string not the content\n",
    "with open(file) as file_obj:         \n",
    "    for line in file_obj:\n",
    "        print(line,end=\"\")                      # or print(line.rstrip())"
   ]
  },
  {
   "cell_type": "markdown",
   "id": "e5db6c64-3df2-4bcf-891b-3f77cd71a61c",
   "metadata": {},
   "source": [
    "#### Making a List of Lines from a File:\n",
    "When you use with, the file object returned by open() is only available insidethe with block that contains it.  \n",
    "If you want to retain access to a file’s contents outside the with block,  \n",
    "you can store the file’s lines in a list inside the block and then work with that list.  \n",
    "You can process parts of the file immediately and postpone some processing for later in the program."
   ]
  },
  {
   "cell_type": "code",
   "execution_count": 96,
   "id": "265d92c7-0f01-459c-a4e4-03b6b0a47701",
   "metadata": {},
   "outputs": [
    {
     "name": "stdout",
     "output_type": "stream",
     "text": [
      "1. The first item on the list is apple.\n",
      "2. There are two types of oranges.\n",
      "3. Three birds flew across the sky.\n",
      "4. I have four pencils in my desk.\n",
      "5. She bought five books at the store.\n",
      "\n",
      "3. Three birds flew across the sky.\n",
      "\n",
      "['1. The first item on the list is apple.\\n', '2. There are two types of oranges.\\n', '3. Three birds flew across the sky.\\n', '4. I have four pencils in my desk.\\n', '5. She bought five books at the store.']\n"
     ]
    }
   ],
   "source": [
    "with open('file4test.txt') as file_obj:         \n",
    "    lines = file_obj.readlines()          # the readlines() method takes each line from the file and stores it in a list.\n",
    "                                          # the list is then assigned to lines, which we can continue to work with after the with block ends.\n",
    "for line in lines:\n",
    "    print(line.rstrip())\n",
    "print(f'\\n{lines[2]}')                    # to access specific line           \n",
    "print(lines)"
   ]
  },
  {
   "cell_type": "markdown",
   "id": "aa1ee657-a4f9-4ddc-bc60-6d8f33fdc47e",
   "metadata": {},
   "source": [
    "#### Working with a File’s Contents:\n",
    "After you’ve read a file into memory, you can do whatever you want with that data,  \n",
    "First, we’ll attempt to build a single string containing all the lines in the file with no whitespace in it."
   ]
  },
  {
   "cell_type": "code",
   "execution_count": 97,
   "id": "bdd1eed6-fd9e-4411-ba16-cd1a77c642ce",
   "metadata": {},
   "outputs": [
    {
     "name": "stdout",
     "output_type": "stream",
     "text": [
      "1. The first item on the list is apple.2. There are two types of oranges.3. Three birds flew across the sky.4. I have four pencils in my desk.5. She bought five books at the store.\n",
      "180\n"
     ]
    }
   ],
   "source": [
    "file = 'file4test.txt'\n",
    "with open(file) as fobj:\n",
    "    lines = fobj.readlines()\n",
    "string = ''\n",
    "for line in lines:\n",
    "    string += line.strip()        \n",
    "print(string)\n",
    "print(len(string))"
   ]
  },
  {
   "cell_type": "markdown",
   "id": "5b3fa89e-5bba-422f-9f67-ef22aa3cce04",
   "metadata": {},
   "source": [
    "##### NOTE:\n",
    "When Python reads from a text file, it interprets all text in the file as a string. If you\n",
    "read in a number and want to work with that value in a numerical context, you’ll\n",
    "have to convert it to an integer using the int() function or convert it to a float using\n",
    "the float() function.  \n",
    "\n",
    "#### Large Files: One Million Digits:   \n",
    "Python has no inherent limit to how much data you can work with;  \n",
    "you can work with as much data as your system’s memory can handle."
   ]
  },
  {
   "cell_type": "code",
   "execution_count": 98,
   "id": "bf1a8e15-29f3-4a69-8a97-74f76777664f",
   "metadata": {},
   "outputs": [
    {
     "name": "stdout",
     "output_type": "stream",
     "text": [
      "3.14159265358979323846264338327950288419716939937510\n",
      "1000002\n"
     ]
    }
   ],
   "source": [
    "file = 'Pi_Million.txt'\n",
    "with open(file) as fobj:\n",
    "    lines = fobj.readlines()\n",
    "string = ''\n",
    "for line in lines:\n",
    "    string += line.strip()        \n",
    "print(string[:52])\n",
    "print(len(string))"
   ]
  },
  {
   "cell_type": "markdown",
   "id": "d9998fe9-5ff1-482d-bba0-a17d14583caf",
   "metadata": {},
   "source": [
    "#### Is Your Birthday Contained in Pi?:"
   ]
  },
  {
   "cell_type": "code",
   "execution_count": 99,
   "id": "59bc1d67-a4cd-4680-82b4-8fd393a26297",
   "metadata": {},
   "outputs": [
    {
     "name": "stdin",
     "output_type": "stream",
     "text": [
      "Enter your birthday, in the form mmddyy:  1234\n"
     ]
    },
    {
     "name": "stdout",
     "output_type": "stream",
     "text": [
      "YES\n"
     ]
    }
   ],
   "source": [
    "file = 'Pi_Million.txt'\n",
    "with open(file) as fobj:\n",
    "    lines = fobj.readlines()\n",
    "string = ''\n",
    "for line in lines:\n",
    "    string += line.strip()        \n",
    "dob =  input(\"Enter your birthday, in the form mmddyy: \")\n",
    "if dob in string:\n",
    "    print('YES')\n",
    "else:\n",
    "    print('NO')"
   ]
  },
  {
   "cell_type": "code",
   "execution_count": 100,
   "id": "d0fbf267-1a5d-42c4-8582-f8551064073e",
   "metadata": {},
   "outputs": [
    {
     "name": "stdout",
     "output_type": "stream",
     "text": [
      " hi, xxx \n",
      " hi, yyy \n",
      " hi, xxx \n"
     ]
    }
   ],
   "source": [
    "# REPlACE:\n",
    "string = \" hi, xxx \"\n",
    "print(string)\n",
    "print(string.replace('xxx','yyy'))\n",
    "print(string)"
   ]
  },
  {
   "cell_type": "markdown",
   "id": "55d7e131-0d17-4eb8-bdf6-be57e1785e63",
   "metadata": {},
   "source": [
    "#### Writing to a File:\n",
    "One of the simplest ways to save data is to write it to a file. When you write\n",
    "text to a file, the output will still be available after you close the terminal\n",
    "containing your program’s output.  \n",
    "#### Writing to an Empty File:\n",
    "1. To write text to a file, you need to call open() with a second argument telling Python that you want to write to the file.\n",
    "2. The first argument is still the name of the file we want to open.\n",
    "The second argument, 'w', tells Python that we want to open the file in write mode."
   ]
  },
  {
   "cell_type": "code",
   "execution_count": 101,
   "id": "dd3c8dc3-c811-46e9-bd81-ecb469b72fe1",
   "metadata": {},
   "outputs": [],
   "source": [
    "file = 'filewrite.txt'\n",
    "with open(file, 'w') as fobj:\n",
    "    fobj.write(\"This the file created using write method\")"
   ]
  },
  {
   "cell_type": "markdown",
   "id": "a8794b9d-436f-4ec8-a4e8-2f4a6a85df15",
   "metadata": {},
   "source": [
    "You can open a file in read mode ('r'), write mode ('w'), append mode ('a'),  \n",
    "or a mode that allows you to read and write to the file ('r+').  \n",
    "If you omit the mode argument, Python opens the file in read-only mode by default.  \n",
    "  \n",
    "The open() function automatically creates the file you’re writing to if it doesn’t already exist.  \n",
    "However, be careful opening a file in write mode ('w') because if the file does exist,  \n",
    "Python __will erase the contents__ of the file before returning the file object."
   ]
  },
  {
   "cell_type": "code",
   "execution_count": 102,
   "id": "ce62e399-b6fb-48b2-9d24-20074925cac9",
   "metadata": {},
   "outputs": [
    {
     "ename": "TypeError",
     "evalue": "write() argument must be str, not int",
     "output_type": "error",
     "traceback": [
      "\u001b[1;31m---------------------------------------------------------------------------\u001b[0m",
      "\u001b[1;31mTypeError\u001b[0m                                 Traceback (most recent call last)",
      "Cell \u001b[1;32mIn[102], line 4\u001b[0m\n\u001b[0;32m      2\u001b[0m num \u001b[38;5;241m=\u001b[39m \u001b[38;5;241m12345\u001b[39m\n\u001b[0;32m      3\u001b[0m \u001b[38;5;28;01mwith\u001b[39;00m \u001b[38;5;28mopen\u001b[39m(file, \u001b[38;5;124m'\u001b[39m\u001b[38;5;124mw\u001b[39m\u001b[38;5;124m'\u001b[39m) \u001b[38;5;28;01mas\u001b[39;00m fobj:               \n\u001b[1;32m----> 4\u001b[0m     \u001b[43mfobj\u001b[49m\u001b[38;5;241;43m.\u001b[39;49m\u001b[43mwrite\u001b[49m\u001b[43m(\u001b[49m\u001b[43mnum\u001b[49m\u001b[43m)\u001b[49m                       \u001b[38;5;66;03m# fobj.write(str(num))\u001b[39;00m\n",
      "\u001b[1;31mTypeError\u001b[0m: write() argument must be str, not int"
     ]
    }
   ],
   "source": [
    "file = 'number.txt'\n",
    "num = 12345\n",
    "with open(file, 'w') as fobj:               \n",
    "    fobj.write(num)                       # fobj.write(str(num))"
   ]
  },
  {
   "cell_type": "markdown",
   "id": "3f2ad128-5cfd-4326-9585-c5ece75a7942",
   "metadata": {},
   "source": [
    "It creates a empty number.txt since it is before the error line,  \n",
    "the error can be corrected by,  \n",
    "__fobj.write(str(num))__\n",
    "  \n",
    "#### Writing Multiple Lines:\n",
    "The write() function doesn’t add any newlines to the text you write. So if\n",
    "you write more than one line without including newline characters, your\n",
    "file may not look the way you want it to:  \n",
    "\n",
    "You can also use spaces, tab characters, and blank lines to format your\n",
    "output, just as you’ve been doing with terminal-based output."
   ]
  },
  {
   "cell_type": "code",
   "execution_count": 112,
   "id": "bac94553-c6b0-4b50-b17f-95226a255231",
   "metadata": {},
   "outputs": [],
   "source": [
    "file = 'filewrite.txt'\n",
    "with open(file, 'w') as fobj:\n",
    "    fobj.write(\"This the file created using write method\")\n",
    "    fobj.write(\"This the line added\")\n",
    "\n",
    "#Output:\n",
    "#This the file created using write methodThis the line added"
   ]
  },
  {
   "cell_type": "code",
   "execution_count": 113,
   "id": "44986b6e-a57c-4afb-b27e-c4d9dc21a34b",
   "metadata": {},
   "outputs": [],
   "source": [
    "file = 'filewrite.txt'\n",
    "with open(file, 'w') as fobj:\n",
    "    fobj.write(\"This the file created using write method \\n\" )\n",
    "    fobj.write(\"This the line added \\n\")\n",
    "\n",
    "#Output:\n",
    "#This the file created using write method\n",
    "#This the line added"
   ]
  },
  {
   "cell_type": "markdown",
   "id": "37cc39ec-a7f6-4482-bd3b-9a13b61036f1",
   "metadata": {},
   "source": [
    "#### Appending to a File:\n",
    "If you want to add content to a file instead of writing over existing content,\n",
    "you can open the file in append mode.  \n",
    "If the file doesn’t exist yet, Python will create an empty file for you. "
   ]
  },
  {
   "cell_type": "code",
   "execution_count": 114,
   "id": "10d29a58-dfeb-4663-b5ce-c37d2256902e",
   "metadata": {},
   "outputs": [],
   "source": [
    "file = 'filewrite.txt'\n",
    "with open(file, 'a') as fobj:\n",
    "    fobj.write(\"This the line added using append \\n\" )\n",
    "    fobj.write(\"Same as above \\n\")"
   ]
  },
  {
   "cell_type": "markdown",
   "id": "f06ca092-36f6-4670-9113-d5bd6f031870",
   "metadata": {},
   "source": [
    "#### Inserting line:"
   ]
  },
  {
   "cell_type": "code",
   "execution_count": 115,
   "id": "1320a40a-1547-40e9-8b08-1d6db44d6fde",
   "metadata": {},
   "outputs": [
    {
     "name": "stdout",
     "output_type": "stream",
     "text": [
      "This the file created using write method \n",
      "This the line added \n",
      "Inserted line\n",
      "This the line added using append \n",
      "Same as above \n"
     ]
    }
   ],
   "source": [
    "file = 'filewrite.txt'\n",
    "with open(file, 'r') as fobj:\n",
    "    lines = fobj.readlines()\n",
    "newline = \"Inserted line\\n\"\n",
    "position = 2\n",
    "lines.insert(position,newline)\n",
    "with open(file, 'w') as fobj:\n",
    "    fobj.writelines(lines)\n",
    "for line in lines:\n",
    "    print(line,end=\"\")"
   ]
  },
  {
   "cell_type": "markdown",
   "id": "7b680df3-1d75-4192-9e01-6c597428b85b",
   "metadata": {},
   "source": [
    "#### Exceptions:\n",
    "Python uses special objects called exceptions to manage errors that arise during a program’s execution. Whenever an error occurs that makes Python\n",
    "unsure what to do next, it creates an exception object.  \n",
    "Exceptions are handled with try-except blocks.cWhen you use try-except blocks, your programs will continue\n",
    "running even if things start to go wrong. Instead of tracebacks, which can\n",
    "be confusing for users to read, users will see friendly error messages that\n",
    "you write."
   ]
  },
  {
   "cell_type": "markdown",
   "id": "9e6111d1-b1b5-4214-9528-709b7bb67c1e",
   "metadata": {},
   "source": [
    "#### Handling the ZeroDivisionError Exception:\n",
    "Let’s look at a simple error that causes Python to raise an exception. You\n",
    "probably know that it’s impossible to divide a number by zero, but let’s ask\n",
    "Python to do it anyway:"
   ]
  },
  {
   "cell_type": "code",
   "execution_count": 108,
   "id": "468d261e-17fc-426f-aa45-43b16b7cc131",
   "metadata": {},
   "outputs": [
    {
     "ename": "ZeroDivisionError",
     "evalue": "division by zero",
     "output_type": "error",
     "traceback": [
      "\u001b[1;31m---------------------------------------------------------------------------\u001b[0m",
      "\u001b[1;31mZeroDivisionError\u001b[0m                         Traceback (most recent call last)",
      "Cell \u001b[1;32mIn[108], line 1\u001b[0m\n\u001b[1;32m----> 1\u001b[0m \u001b[38;5;28mprint\u001b[39m(\u001b[38;5;241;43m7\u001b[39;49m\u001b[38;5;241;43m/\u001b[39;49m\u001b[38;5;241;43m0\u001b[39;49m)\n",
      "\u001b[1;31mZeroDivisionError\u001b[0m: division by zero"
     ]
    }
   ],
   "source": [
    "print(7/0)"
   ]
  },
  {
   "cell_type": "markdown",
   "id": "b1881df7-2939-4b85-a021-ce45e9c7dd99",
   "metadata": {},
   "source": [
    "The error reported in the traceback, ZeroDivisionError, is an exception object.'\n",
    "#### Using try-except Blocks:  \n",
    "When you think an error may occur, you can write a try-except block to\n",
    "handle the exception that might be raised. You tell Python to try running\n",
    "some code, and you tell it what to do if the code results in a particular kind\n",
    "of exception."
   ]
  },
  {
   "cell_type": "code",
   "execution_count": 109,
   "id": "4a42ecb9-34c6-4d5d-82e2-bdda636d2408",
   "metadata": {},
   "outputs": [
    {
     "name": "stdout",
     "output_type": "stream",
     "text": [
      "3.0\n",
      "Can't divide a num by Zero\n",
      "Done\n"
     ]
    }
   ],
   "source": [
    "try:\n",
    "    print(6/2)\n",
    "    print(3/0)\n",
    "    print(\"Done\")                                     # won't run\n",
    "except ZeroDivisionError:\n",
    "    print(\"Can't divide a num by Zero\")\n",
    "print(\"Done\")"
   ]
  },
  {
   "cell_type": "markdown",
   "id": "c76bf66f-b313-412b-b6d6-cb225f779ea8",
   "metadata": {},
   "source": [
    "#### The try-except-else block:"
   ]
  },
  {
   "cell_type": "code",
   "execution_count": 117,
   "id": "599790ff-b9cd-4ab2-b3a4-7a322a1a04ab",
   "metadata": {},
   "outputs": [
    {
     "name": "stdout",
     "output_type": "stream",
     "text": [
      "Enter two num to divide.\n",
      "Enter q to quit.\n"
     ]
    },
    {
     "name": "stdin",
     "output_type": "stream",
     "text": [
      "Enter 1st num:  5\n",
      "Enter 1st num:  2\n"
     ]
    },
    {
     "name": "stdout",
     "output_type": "stream",
     "text": [
      "2.5\n"
     ]
    },
    {
     "name": "stdin",
     "output_type": "stream",
     "text": [
      "Enter 1st num:  5\n",
      "Enter 1st num:  0\n"
     ]
    },
    {
     "name": "stdout",
     "output_type": "stream",
     "text": [
      "Can't div a num with Zero.\n"
     ]
    },
    {
     "name": "stdin",
     "output_type": "stream",
     "text": [
      "Enter 1st num:  q\n"
     ]
    }
   ],
   "source": [
    "print(\"Enter two num to divide.\")\n",
    "print(\"Enter q to quit.\")\n",
    "while True:\n",
    "    fnum = input(\"Enter 1st num: \")\n",
    "    if fnum == 'q':\n",
    "        break\n",
    "    snum = input(\"Enter 1st num: \")\n",
    "    if snum == 'q':\n",
    "        break\n",
    "    try:\n",
    "        ans = int(fnum)/int(snum)\n",
    "    except ZeroDivisionError:\n",
    "        print(\"Can't div a num with Zero.\")\n",
    "    else:\n",
    "        print(ans)"
   ]
  },
  {
   "cell_type": "markdown",
   "id": "f9a9f396-760e-4034-99f6-1edcf6eacac5",
   "metadata": {},
   "source": [
    "#### Handling the FileNotFoundError Exception:\n",
    "Let’s try to read a file that doesn’t exist."
   ]
  },
  {
   "cell_type": "code",
   "execution_count": 118,
   "id": "744ed58f-6bb0-47e9-99f3-75f547c26511",
   "metadata": {},
   "outputs": [
    {
     "ename": "FileNotFoundError",
     "evalue": "[Errno 2] No such file or directory: 'file.txt'",
     "output_type": "error",
     "traceback": [
      "\u001b[1;31m---------------------------------------------------------------------------\u001b[0m",
      "\u001b[1;31mFileNotFoundError\u001b[0m                         Traceback (most recent call last)",
      "Cell \u001b[1;32mIn[118], line 1\u001b[0m\n\u001b[1;32m----> 1\u001b[0m \u001b[38;5;28;01mwith\u001b[39;00m \u001b[38;5;28;43mopen\u001b[39;49m\u001b[43m(\u001b[49m\u001b[38;5;124;43m'\u001b[39;49m\u001b[38;5;124;43mfile.txt\u001b[39;49m\u001b[38;5;124;43m'\u001b[39;49m\u001b[43m)\u001b[49m \u001b[38;5;28;01mas\u001b[39;00m file_obj:         \u001b[38;5;66;03m# file.txt - file name which doesn't exist\u001b[39;00m\n\u001b[0;32m      2\u001b[0m     content \u001b[38;5;241m=\u001b[39m file_obj\u001b[38;5;241m.\u001b[39mread()\n\u001b[0;32m      3\u001b[0m \u001b[38;5;28mprint\u001b[39m(content)\n",
      "File \u001b[1;32m~\\AppData\\Roaming\\Python\\Python311\\site-packages\\IPython\\core\\interactiveshell.py:324\u001b[0m, in \u001b[0;36m_modified_open\u001b[1;34m(file, *args, **kwargs)\u001b[0m\n\u001b[0;32m    317\u001b[0m \u001b[38;5;28;01mif\u001b[39;00m file \u001b[38;5;129;01min\u001b[39;00m {\u001b[38;5;241m0\u001b[39m, \u001b[38;5;241m1\u001b[39m, \u001b[38;5;241m2\u001b[39m}:\n\u001b[0;32m    318\u001b[0m     \u001b[38;5;28;01mraise\u001b[39;00m \u001b[38;5;167;01mValueError\u001b[39;00m(\n\u001b[0;32m    319\u001b[0m         \u001b[38;5;124mf\u001b[39m\u001b[38;5;124m\"\u001b[39m\u001b[38;5;124mIPython won\u001b[39m\u001b[38;5;124m'\u001b[39m\u001b[38;5;124mt let you open fd=\u001b[39m\u001b[38;5;132;01m{\u001b[39;00mfile\u001b[38;5;132;01m}\u001b[39;00m\u001b[38;5;124m by default \u001b[39m\u001b[38;5;124m\"\u001b[39m\n\u001b[0;32m    320\u001b[0m         \u001b[38;5;124m\"\u001b[39m\u001b[38;5;124mas it is likely to crash IPython. If you know what you are doing, \u001b[39m\u001b[38;5;124m\"\u001b[39m\n\u001b[0;32m    321\u001b[0m         \u001b[38;5;124m\"\u001b[39m\u001b[38;5;124myou can use builtins\u001b[39m\u001b[38;5;124m'\u001b[39m\u001b[38;5;124m open.\u001b[39m\u001b[38;5;124m\"\u001b[39m\n\u001b[0;32m    322\u001b[0m     )\n\u001b[1;32m--> 324\u001b[0m \u001b[38;5;28;01mreturn\u001b[39;00m \u001b[43mio_open\u001b[49m\u001b[43m(\u001b[49m\u001b[43mfile\u001b[49m\u001b[43m,\u001b[49m\u001b[43m \u001b[49m\u001b[38;5;241;43m*\u001b[39;49m\u001b[43margs\u001b[49m\u001b[43m,\u001b[49m\u001b[43m \u001b[49m\u001b[38;5;241;43m*\u001b[39;49m\u001b[38;5;241;43m*\u001b[39;49m\u001b[43mkwargs\u001b[49m\u001b[43m)\u001b[49m\n",
      "\u001b[1;31mFileNotFoundError\u001b[0m: [Errno 2] No such file or directory: 'file.txt'"
     ]
    }
   ],
   "source": [
    "with open('file.txt') as file_obj:         # file.txt - file name which doesn't exist\n",
    "    content = file_obj.read()\n",
    "print(content)"
   ]
  },
  {
   "cell_type": "code",
   "execution_count": 119,
   "id": "c4ab12e5-8f80-467f-b14b-e34fda48d293",
   "metadata": {},
   "outputs": [
    {
     "name": "stdout",
     "output_type": "stream",
     "text": [
      "File doesn't exist\n"
     ]
    }
   ],
   "source": [
    "try:\n",
    "    with open('file.txt', encoding='utf-8') as file_obj:         # file.txt - file name which doesn't exist\n",
    "        content = file_obj.read()\n",
    "except:\n",
    "    print(\"File doesn't exist\")\n",
    "else:\n",
    "    print(content)\n",
    "    \n",
    "# encoding='utf-8'\n",
    "# This argument is needed when your system’s default encoding doesn’t match the encoding of the file that’s being read."
   ]
  },
  {
   "cell_type": "markdown",
   "id": "bb4890b4-7d09-457f-8b4d-23742f9f65fb",
   "metadata": {},
   "source": [
    "#### Analyzing Text:\n",
    "You can analyze text files containing entire books.  \n",
    "The split() method separates a string into parts wherever it finds a\n",
    "space and stores all the parts of the string in a list.   "
   ]
  },
  {
   "cell_type": "code",
   "execution_count": 120,
   "id": "aeefaac8-5469-4a8f-bcc4-1c1477b9d704",
   "metadata": {},
   "outputs": [
    {
     "name": "stdout",
     "output_type": "stream",
     "text": [
      "22\n"
     ]
    }
   ],
   "source": [
    "try:\n",
    "    with open('file123.txt') as file_obj:         # file123.txt - file name which does exist\n",
    "        content = file_obj.read()\n",
    "except:\n",
    "    print(\"File doesn't exist\")\n",
    "else:\n",
    "    words = content.split()\n",
    "    print(len(words))"
   ]
  },
  {
   "cell_type": "markdown",
   "id": "62add37f-f907-44b3-be29-2e65876b2187",
   "metadata": {},
   "source": [
    "#### Working with Multiple Files:\n",
    "Let’s add more files to analyze. But before we do, let’s move the bulk of\n",
    "this program to a function called count_words(). By doing so, it will be easier\n",
    "to run the analysis for multiple files:"
   ]
  },
  {
   "cell_type": "code",
   "execution_count": 121,
   "id": "eceee589-b8b1-40d0-bf4f-6ee6e9851f51",
   "metadata": {},
   "outputs": [
    {
     "name": "stdout",
     "output_type": "stream",
     "text": [
      "20001\n",
      "4\n",
      "File doesn't exist\n",
      "22\n"
     ]
    }
   ],
   "source": [
    "def count_words(filename):\n",
    "    try:\n",
    "        with open(filename) as file_obj:         \n",
    "            content = file_obj.read()\n",
    "    except:\n",
    "        print(\"File doesn't exist\")\n",
    "    else:\n",
    "        words = content.split()\n",
    "        print(len(words))\n",
    "filename = ['Pi_Million.txt','modu.py.','file.txt','file123.txt']\n",
    "for items in filename:\n",
    "    count_words(items)"
   ]
  },
  {
   "cell_type": "markdown",
   "id": "af43d4de-9314-4cbf-b01b-57233a87e2f2",
   "metadata": {},
   "source": [
    "#### Failing Silently:\n",
    "Using __pass__ in __except__ block."
   ]
  },
  {
   "cell_type": "code",
   "execution_count": 122,
   "id": "c58d9705-2068-4631-af5e-1e2825fe2b0d",
   "metadata": {},
   "outputs": [
    {
     "name": "stdout",
     "output_type": "stream",
     "text": [
      "20001\n",
      "4\n",
      "22\n"
     ]
    }
   ],
   "source": [
    "def count_words(filename):\n",
    "    try:\n",
    "        with open(filename) as file_obj:         \n",
    "            content = file_obj.read()\n",
    "    except:\n",
    "        pass\n",
    "    else:\n",
    "        words = content.split()\n",
    "        print(len(words))\n",
    "filename = ['Pi_Million.txt','modu.py.','file.txt','file123.txt']\n",
    "for items in filename:\n",
    "    count_words(items)"
   ]
  },
  {
   "cell_type": "markdown",
   "id": "91e9dfb9-860c-4998-a499-b6ad9ae7f404",
   "metadata": {},
   "source": [
    "#### Storing Data:\n",
    "Whatever the focus of your program is, you’ll store the information users provide in data structures such as lists and dictionaries. When\n",
    "users close a program, you’ll almost always want to save the information\n",
    "they entered. A simple way to do this involves storing your data using the\n",
    "__json__ module.  \n",
    "The json module allows you to dump simple Python data structures into a\n",
    "file and load the data from that file the next time the program runs.  \n",
    "#### NOTE:\n",
    "The JSON (JavaScript Object Notation) format was originally developed for JavaScript.\n",
    "However, it has since become a common format used by many languages, including\n",
    "Python.  \n",
    "#### Using json.dump() and json.load():"
   ]
  },
  {
   "cell_type": "code",
   "execution_count": 123,
   "id": "b5c1e81c-7665-40bb-89e8-e655e98f1c44",
   "metadata": {},
   "outputs": [],
   "source": [
    "import json \n",
    "\n",
    "numbers = [1,2,3,4,5,6,7]\n",
    "file = 'numbers.json'\n",
    "with open(file,'w') as fobj:\n",
    "    json.dump(numbers,fobj)        \n",
    "\n",
    "# The json.dump() function takes two arguments: \n",
    "# a piece of data tostore and a file object it can use to store the data."
   ]
  },
  {
   "cell_type": "code",
   "execution_count": 124,
   "id": "4b1edfff-c14e-4a9e-9557-4b6f44f53bc3",
   "metadata": {},
   "outputs": [
    {
     "name": "stdout",
     "output_type": "stream",
     "text": [
      "[1, 2, 3, 4, 5, 6, 7]\n"
     ]
    }
   ],
   "source": [
    "import json \n",
    "\n",
    "file = 'numbers.json'\n",
    "with open(file) as f:\n",
    "    nums = json.load(f)\n",
    "print(nums)"
   ]
  },
  {
   "cell_type": "markdown",
   "id": "8018ed4d-3702-42a1-beb4-45473cd8f9f2",
   "metadata": {},
   "source": [
    "#### Saving and Reading User-Generated Data:\n",
    "Same as above, save the input variable in json dump.  \n",
    "Now let us see something interesting."
   ]
  },
  {
   "cell_type": "code",
   "execution_count": 125,
   "id": "f846f2f9-b799-4164-8f0c-fa2200b9ddb3",
   "metadata": {},
   "outputs": [
    {
     "name": "stdout",
     "output_type": "stream",
     "text": [
      "Hi,xxx\n"
     ]
    }
   ],
   "source": [
    "import json \n",
    "\n",
    "file = 'user.json'\n",
    "try:\n",
    "    with open(file) as f:\n",
    "        user = json.load(f)\n",
    "except  FileNotFoundError:\n",
    "    user = input(\"Enter ur name: \")\n",
    "    with open(file,'w') as fobj:\n",
    "        json.dump(user,fobj) \n",
    "        print(f\"{user}, will be saved\")\n",
    "else:\n",
    "    print(f\"Hi,{user}\")"
   ]
  },
  {
   "cell_type": "markdown",
   "id": "3407f884-4ea9-41bf-ae88-acfb03f85a3d",
   "metadata": {},
   "source": [
    "#### Refactoring:\n",
    "Often, you’ll come to a point where your code will work, but you’ll recognize that you could improve the code by breaking it up into a series of functions that have specific jobs. This process is called refactoring. Refactoring\n",
    "makes your code cleaner, easier to understand, and easier to extend. "
   ]
  },
  {
   "cell_type": "code",
   "execution_count": 126,
   "id": "47a9915b-5697-40c5-87bd-790cb4333fd4",
   "metadata": {},
   "outputs": [
    {
     "name": "stdout",
     "output_type": "stream",
     "text": [
      "Welcome back, xxx!\n"
     ]
    }
   ],
   "source": [
    "import json\n",
    "\n",
    "def get_stored_username():\n",
    "    \"\"\"Get stored username if available.\"\"\"\n",
    "    filename = 'username.json'\n",
    "    try:\n",
    "        with open(filename) as f:\n",
    "            username = json.load(f)\n",
    "    except FileNotFoundError:\n",
    "        return None\n",
    "    else:\n",
    "        return username\n",
    "def get_new_username():\n",
    "    \"\"\"Prompt for a new username.\"\"\"\n",
    "    username = input(\"What is your name? \")\n",
    "    filename = 'username.json'\n",
    "    with open(filename, 'w') as f:\n",
    "        json.dump(username, f)\n",
    "    return username\n",
    "def greet_user():\n",
    "    \"\"\"Greet the user by name.\"\"\"\n",
    "    username = get_stored_username()\n",
    "    if username:\n",
    "        print(f\"Welcome back, {username}!\")\n",
    "    else:\n",
    "        username = get_new_username()\n",
    "        print(f\"We'll remember you when you come back, {username}!\")\n",
    "greet_user()"
   ]
  },
  {
   "cell_type": "markdown",
   "id": "edf24ba0-8850-4608-86a6-b5bdf111add1",
   "metadata": {},
   "source": [
    "#### ----- THANK YOU -----     \n",
    "DATE : 13 DEC 2024"
   ]
  }
 ],
 "metadata": {
  "kernelspec": {
   "display_name": "Python 3 (ipykernel)",
   "language": "python",
   "name": "python3"
  },
  "language_info": {
   "codemirror_mode": {
    "name": "ipython",
    "version": 3
   },
   "file_extension": ".py",
   "mimetype": "text/x-python",
   "name": "python",
   "nbconvert_exporter": "python",
   "pygments_lexer": "ipython3",
   "version": "3.11.3"
  }
 },
 "nbformat": 4,
 "nbformat_minor": 5
}
